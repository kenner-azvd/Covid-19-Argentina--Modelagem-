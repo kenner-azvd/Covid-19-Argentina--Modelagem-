{
 "cells": [
  {
   "cell_type": "code",
   "execution_count": null,
   "metadata": {},
   "outputs": [
    {
     "name": "stdout",
     "output_type": "stream",
     "text": [
      "value must be unset (None) or one of ('plain', 'ascii_art', 'unicode_art', 'latex'), got typese\n",
      "Collecting pandas\n",
      "\u001b[?25l  Downloading https://files.pythonhosted.org/packages/09/39/fb93ed98962d032963418cd1ea5927b9e11c4c80cb1e0b45dea769d8f9a5/pandas-1.1.4.tar.gz (5.2MB)\n",
      "\u001b[K    100% |████████████████████████████████| 5.2MB 546kB/s ta 0:00:01\n",
      "\u001b[?25h  Installing build dependencies ... \u001b[?25l/"
     ]
    }
   ],
   "source": [
    "%display typese\n",
    "!pip install pandas"
   ]
  },
  {
   "cell_type": "code",
   "execution_count": 7,
   "metadata": {},
   "outputs": [],
   "source": [
    "var('M T S E I R  delta mu alpha beta gama e t N')\n",
    "\n",
    "S = function('S')(t)\n",
    "E = function('E')(t)\n",
    "I = function('I')(t)\n",
    "R = function('R')(t)\n",
    "\n",
    "dsdt = diff(S,t) == delta - mu*S - beta*I*S/N\n",
    "dedt = diff(E,t) == beta*I*(S/N) - (mu + e)*E\n",
    "didt = diff(I,t) == e*E - (gama + mu + alpha)*I\n",
    "drdt = diff(R,t) == gama*I - mu*R"
   ]
  },
  {
   "cell_type": "code",
   "execution_count": 8,
   "metadata": {},
   "outputs": [
    {
     "data": {
      "text/html": [
       "<h4>Resolvendo analiticamente a EDO:</h4>"
      ],
      "text/plain": [
       "<h4>Resolvendo analiticamente a EDO:</h4>"
      ]
     },
     "metadata": {},
     "output_type": "display_data"
    },
    {
     "data": {
      "text/html": [
       "<html><script type=\"math/tex; mode=display\">\\newcommand{\\Bold}[1]{\\mathbf{#1}}\\left[S\\left(t\\right) = \\mathcal{L}^{-1}\\left(\\frac{\\Delta N - {\\left(\\beta \\mathcal{L}\\left(S\\left(t\\right) I\\left(t\\right), t, g_{1447}\\right) - 100 \\, N\\right)} g_{1447}}{N g_{1447}^{2} + N g_{1447} \\mu}, g_{1447}, t\\right), E\\left(t\\right) = \\mathcal{L}^{-1}\\left(\\frac{\\beta \\mathcal{L}\\left(S\\left(t\\right) I\\left(t\\right), t, g_{1447}\\right)}{N \\epsilon + N g_{1447} + N \\mu}, g_{1447}, t\\right), I\\left(t\\right) = \\mathcal{L}^{-1}\\left(\\frac{\\beta \\epsilon \\mathcal{L}\\left(S\\left(t\\right) I\\left(t\\right), t, g_{1447}\\right)}{N {\\left(\\alpha + \\gamma\\right)} \\epsilon + N g_{1447}^{2} + N {\\left(\\alpha + \\epsilon + \\gamma\\right)} \\mu + N \\mu^{2} + {\\left(N {\\left(\\alpha + \\epsilon + \\gamma\\right)} + 2 \\, N \\mu\\right)} g_{1447}}, g_{1447}, t\\right), R\\left(t\\right) = \\mathcal{L}^{-1}\\left(\\frac{\\beta \\epsilon \\gamma \\mathcal{L}\\left(S\\left(t\\right) I\\left(t\\right), t, g_{1447}\\right)}{N g_{1447}^{3} + N {\\left(\\alpha + \\gamma\\right)} \\epsilon \\mu + N {\\left(\\alpha + \\epsilon + \\gamma\\right)} \\mu^{2} + N \\mu^{3} + {\\left(N {\\left(\\alpha + \\epsilon + \\gamma\\right)} + 3 \\, N \\mu\\right)} g_{1447}^{2} + {\\left(N {\\left(\\alpha + \\gamma\\right)} \\epsilon + 2 \\, N {\\left(\\alpha + \\epsilon + \\gamma\\right)} \\mu + 3 \\, N \\mu^{2}\\right)} g_{1447}}, g_{1447}, t\\right)\\right]</script></html>"
      ],
      "text/plain": [
       "[S(t) == ilt((Delta*N - (beta*laplace(S(t)*_I(t), t, g1447) - 100*N)*g1447)/(N*g1447^2 + N*g1447*mu), g1447, t),\n",
       " E(t) == ilt(beta*laplace(S(t)*_I(t), t, g1447)/(N*epsilon + N*g1447 + N*mu), g1447, t),\n",
       " _I(t) == ilt(beta*epsilon*laplace(S(t)*_I(t), t, g1447)/(N*(alpha + gamma)*epsilon + N*g1447^2 + N*(alpha + epsilon + gamma)*mu + N*mu^2 + (N*(alpha + epsilon + gamma) + 2*N*mu)*g1447), g1447, t),\n",
       " R(t) == ilt(beta*epsilon*gamma*laplace(S(t)*_I(t), t, g1447)/(N*g1447^3 + N*(alpha + gamma)*epsilon*mu + N*(alpha + epsilon + gamma)*mu^2 + N*mu^3 + (N*(alpha + epsilon + gamma) + 3*N*mu)*g1447^2 + (N*(alpha + gamma)*epsilon + 2*N*(alpha + epsilon + gamma)*mu + 3*N*mu^2)*g1447), g1447, t)]"
      ]
     },
     "metadata": {},
     "output_type": "display_data"
    }
   ],
   "source": [
    " def ode(t,y,params):\n",
    "    S,E,I,R = y\n",
    "    N = S\n",
    "    delta,mu,alfa,beta,gamma,eps = params\n",
    "    return [delta-mu*S-beta*I*S/N,beta*I*S/N-(mu+eps)*E,eps*E-(gamma+mu+alfa)*I,gamma*I-mu*R]\n",
    "\n",
    "\n",
    "T = ode_solver()\n",
    "T.algorithm = \"rk8pd\"\n",
    "T.function = ode\n",
    "T.ode_solve(y_0 = [100,0,0,0],t_span=[0,4],params = [0.5,0.5,0.5,0.5,0.5,0.5],num_points = 30)\n",
    "\n",
    "t,delta,mu,alfa,beta,gamma,eps,S,E,I,R,N = var('t Delta mu alpha beta gamma epsilon S E I R N')\n",
    "\n",
    "# ##todos os parâmetros têm unidade 1/t \n",
    "# ## As variáveis têm unidade de massa (M)\n",
    "S = function('S')(t)\n",
    "E = function('E')(t)\n",
    "I = function('I')(t)\n",
    "R = function('R')(t)\n",
    "\n",
    "de1 = diff(S,t) == delta-mu*S-beta*I*S/N\n",
    "de2 = diff(E,t) == beta*I*S/N-(mu+eps)*E\n",
    "de3 = diff(I,t) == eps*E-(gamma+mu+alfa)*I\n",
    "de4 = diff(R,t) == gamma*I-mu*R\n",
    "\n",
    "\n",
    "sol = desolve_system([de1,de2,de3,de4],[S,E,I,R],ics = [0,100,0,0,0],ivar = t)\n",
    "S,E,I,R = sol[0].rhs(),sol[1].rhs(),sol[2].rhs(),sol[3].rhs()\n",
    "show(html(\"<h4>Resolvendo analiticamente a EDO:</h4>\"))\n",
    "show(sol)\n",
    "\n",
    "\n",
    "\n"
   ]
  },
  {
   "cell_type": "code",
   "execution_count": 9,
   "metadata": {},
   "outputs": [],
   "source": [
    "A,B,C,D,ps,pe,p_i,pr,t = var('A B C D ps pe p_i pr t')\n",
    "ys = S*mu/delta\n",
    "A = E/S\n",
    "B = I/E\n",
    "C = R/I\n",
    "D = mu*t\n",
    "pe = beta*t\n",
    "p_i = eps*t\n",
    "pr = gamma*t\n",
    "k = .1\n",
    "A = function('A')(t)\n",
    "B = function('B')(t)\n",
    "C = function('C')(t)\n",
    "D = function('D')(t)\n",
    "dAdp = diff(A,t) == 1-A-beta*delta*A*A*B*C/(N*mu*mu)\n",
    "dBdp = diff(B,t) == A*B*C*delta/(mu*N)-(mu+eps)*B/beta\n",
    "dCdp = diff(C,t) == 1-(gamma+mu+alfa)*C/eps\n",
    "dDdp = diff(D,t) == 1-mu*D/gamma\n",
    "sol_adm = desolve_system([dAdp,dBdp,dCdp,dDdp],[A,B,C,D],ics = [0,100,2,2,2],ivar = t)\n",
    "s1,s2,s3,s4 = sol_adm[0].rhs(),sol_adm[1].rhs(),sol_adm[2].rhs(),sol_adm[3].rhs()"
   ]
  },
  {
   "cell_type": "code",
   "execution_count": 10,
   "metadata": {},
   "outputs": [
    {
     "data": {
      "text/html": [
       "<h4>Adimensionalização:</h4>"
      ],
      "text/plain": [
       "<h4>Adimensionalização:</h4>"
      ]
     },
     "metadata": {},
     "output_type": "display_data"
    },
    {
     "data": {
      "text/html": [
       "<html><script type=\"math/tex; mode=display\">\\newcommand{\\Bold}[1]{\\mathbf{#1}}\\frac{\\partial}{\\partial t}A\\left(t\\right) = -\\frac{\\Delta \\beta A\\left(t\\right)^{2} B\\left(t\\right) C\\left(t\\right)}{N \\mu^{2}} - A\\left(t\\right) + 1</script></html>"
      ],
      "text/plain": [
       "diff(A(t), t) == -Delta*beta*A(t)^2*B(t)*C(t)/(N*mu^2) - A(t) + 1"
      ]
     },
     "metadata": {},
     "output_type": "display_data"
    },
    {
     "data": {
      "text/html": [
       "<html><script type=\"math/tex; mode=display\">\\newcommand{\\Bold}[1]{\\mathbf{#1}}\\frac{\\partial}{\\partial t}B\\left(t\\right) = \\frac{\\Delta A\\left(t\\right) B\\left(t\\right) C\\left(t\\right)}{N \\mu} - \\frac{{\\left(\\epsilon + \\mu\\right)} B\\left(t\\right)}{\\beta}</script></html>"
      ],
      "text/plain": [
       "diff(B(t), t) == Delta*A(t)*B(t)*C(t)/(N*mu) - (epsilon + mu)*B(t)/beta"
      ]
     },
     "metadata": {},
     "output_type": "display_data"
    },
    {
     "data": {
      "text/html": [
       "<html><script type=\"math/tex; mode=display\">\\newcommand{\\Bold}[1]{\\mathbf{#1}}\\frac{\\partial}{\\partial t}C\\left(t\\right) = -\\frac{{\\left(\\alpha + \\gamma + \\mu\\right)} C\\left(t\\right)}{\\epsilon} + 1</script></html>"
      ],
      "text/plain": [
       "diff(C(t), t) == -(alpha + gamma + mu)*C(t)/epsilon + 1"
      ]
     },
     "metadata": {},
     "output_type": "display_data"
    },
    {
     "data": {
      "text/html": [
       "<html><script type=\"math/tex; mode=display\">\\newcommand{\\Bold}[1]{\\mathbf{#1}}\\frac{\\partial}{\\partial t}D\\left(t\\right) = -\\frac{\\mu D\\left(t\\right)}{\\gamma} + 1</script></html>"
      ],
      "text/plain": [
       "diff(D(t), t) == -mu*D(t)/gamma + 1"
      ]
     },
     "metadata": {},
     "output_type": "display_data"
    }
   ],
   "source": [
    "show(html(\"<h4>Adimensionalização:</h4>\"))\n",
    "show(dAdp)\n",
    "show(dBdp)\n",
    "show(dCdp)\n",
    "show(dDdp)\n"
   ]
  },
  {
   "cell_type": "code",
   "execution_count": 11,
   "metadata": {},
   "outputs": [
    {
     "data": {
      "text/html": [
       "<h4>Equilíbrio endemico e Equilibrio  livre da doença:</h4>"
      ],
      "text/plain": [
       "<h4>Equilíbrio endemico e Equilibrio  livre da doença:</h4>"
      ]
     },
     "metadata": {},
     "output_type": "display_data"
    },
    {
     "data": {
      "text/html": [
       "<html><script type=\"math/tex; mode=display\">\\newcommand{\\Bold}[1]{\\mathbf{#1}}\\left[\\left[S = \\frac{N \\alpha \\epsilon + N \\epsilon \\gamma + N \\mu^{2} + {\\left(N \\alpha + N \\epsilon + N \\gamma\\right)} \\mu}{\\beta \\epsilon}, E = -\\frac{N \\mu^{3} - \\Delta \\beta \\epsilon + {\\left(N \\alpha + N \\epsilon + N \\gamma\\right)} \\mu^{2} + {\\left(N \\alpha \\epsilon + N \\epsilon \\gamma\\right)} \\mu}{\\beta \\epsilon^{2} + \\beta \\epsilon \\mu}, I = -\\frac{N \\mu^{3} - \\Delta \\beta \\epsilon + {\\left(N \\alpha + N \\epsilon + N \\gamma\\right)} \\mu^{2} + {\\left(N \\alpha \\epsilon + N \\epsilon \\gamma\\right)} \\mu}{\\alpha \\beta \\epsilon + \\beta \\epsilon \\gamma + \\beta \\mu^{2} + {\\left(\\alpha \\beta + \\beta \\epsilon + \\beta \\gamma\\right)} \\mu}, R = -\\frac{N \\gamma \\mu^{3} - \\Delta \\beta \\epsilon \\gamma + {\\left(N \\gamma^{2} + {\\left(N \\alpha + N \\epsilon\\right)} \\gamma\\right)} \\mu^{2} + {\\left(N \\alpha \\epsilon \\gamma + N \\epsilon \\gamma^{2}\\right)} \\mu}{\\beta \\mu^{3} + {\\left(\\alpha \\beta + \\beta \\epsilon + \\beta \\gamma\\right)} \\mu^{2} + {\\left(\\alpha \\beta \\epsilon + \\beta \\epsilon \\gamma\\right)} \\mu}\\right], \\left[S = \\frac{\\Delta}{\\mu}, E = 0, I = 0, R = 0\\right]\\right]</script></html>"
      ],
      "text/plain": [
       "[[S == (N*alpha*epsilon + N*epsilon*gamma + N*mu^2 + (N*alpha + N*epsilon + N*gamma)*mu)/(beta*epsilon), E == -(N*mu^3 - Delta*beta*epsilon + (N*alpha + N*epsilon + N*gamma)*mu^2 + (N*alpha*epsilon + N*epsilon*gamma)*mu)/(beta*epsilon^2 + beta*epsilon*mu), I == -(N*mu^3 - Delta*beta*epsilon + (N*alpha + N*epsilon + N*gamma)*mu^2 + (N*alpha*epsilon + N*epsilon*gamma)*mu)/(alpha*beta*epsilon + beta*epsilon*gamma + beta*mu^2 + (alpha*beta + beta*epsilon + beta*gamma)*mu), R == -(N*gamma*mu^3 - Delta*beta*epsilon*gamma + (N*gamma^2 + (N*alpha + N*epsilon)*gamma)*mu^2 + (N*alpha*epsilon*gamma + N*epsilon*gamma^2)*mu)/(beta*mu^3 + (alpha*beta + beta*epsilon + beta*gamma)*mu^2 + (alpha*beta*epsilon + beta*epsilon*gamma)*mu)], [S == Delta/mu, E == 0, I == 0, R == 0]]"
      ]
     },
     "metadata": {},
     "output_type": "display_data"
    }
   ],
   "source": [
    "t,delta,mu,alfa,beta,gamma,eps,S,E,I,R,N = var('t Delta mu alpha beta gamma epsilon S E I R N')\n",
    "eq1(S,t) = delta-mu*S-beta*I*S/N\n",
    "eq2(E,t) = beta*I*S/N-(mu+eps)*E\n",
    "eq3(I,t) = eps*E-(gamma+mu+alfa)*I\n",
    "eq4(R,t) = gamma*I-mu*R\n",
    "eqs = solve([eq1,eq2,eq3,eq4],[S,E,I,R])\n",
    "show(html(\"<h4>Equilíbrio endemico e Equilibrio  livre da doença:</h4>\"))\n",
    "show(eqs)\n"
   ]
  },
  {
   "cell_type": "code",
   "execution_count": 12,
   "metadata": {},
   "outputs": [
    {
     "data": {
      "text/html": [
       "<h4>SEIR é um sistema de EDO's não linear:</h4>"
      ],
      "text/plain": [
       "<h4>SEIR é um sistema de EDO's não linear:</h4>"
      ]
     },
     "metadata": {},
     "output_type": "display_data"
    },
    {
     "data": {
      "text/html": [
       "<html><script type=\"math/tex; mode=display\">\\newcommand{\\Bold}[1]{\\mathbf{#1}}\\verb|X'|\\phantom{\\verb!x!}\\verb|=| \\left(\\begin{array}{rrrr}\n",
       "-\\mu & 0 & 0 & 0 \\\\\n",
       "0 & -\\epsilon - \\mu & 0 & 0 \\\\\n",
       "0 & \\epsilon & -\\alpha - \\gamma - \\mu & 0 \\\\\n",
       "0 & 0 & \\gamma & -\\mu\n",
       "\\end{array}\\right) \\left(\\begin{array}{r}\n",
       "S \\\\\n",
       "E \\\\\n",
       "I \\\\\n",
       "R\n",
       "\\end{array}\\right) + \\left(\\begin{array}{r}\n",
       "-\\frac{I S \\beta}{N} + \\Delta \\\\\n",
       "\\frac{I S \\beta}{N} \\\\\n",
       "0 \\\\\n",
       "0\n",
       "\\end{array}\\right)</script></html>"
      ],
      "text/plain": [
       "\"X' =\" [                -mu                   0                   0                   0]\n",
       "[                  0       -epsilon - mu                   0                   0]\n",
       "[                  0             epsilon -alpha - gamma - mu                   0]\n",
       "[                  0                   0               gamma                 -mu] [S]\n",
       "[E]\n",
       "[I]\n",
       "[R] '+' [-I*S*beta/N + Delta]\n",
       "[         I*S*beta/N]\n",
       "[                  0]\n",
       "[                  0]"
      ]
     },
     "metadata": {},
     "output_type": "display_data"
    }
   ],
   "source": [
    "#por SEIR não ser um sistema linear, devemos verificar se ||g(x)|| -->0, quando x --> ponto critico\n",
    "A = matrix([[-mu, 0,0 ,0 ],[0,-(mu+eps),0,0],[0,eps,-(gamma+mu+alfa),0],[0,0,gamma,-mu]])\n",
    "X = matrix([[S],[E],[I],[R]])\n",
    "gx = matrix([[-I*S*beta/N + delta],[I*S*beta/N],[0],[0]])\n",
    "show(html(\"<h4>SEIR é um sistema de EDO's não linear:</h4>\"))\n",
    "show(\"X' =\",A,X,\"+\",gx)\n",
    "#a = M*X\n",
    "#eqs = solve([a[0,0],a[1,0]],[X[0,0],X[1,0]])\n",
    "#show(eqs)\n"
   ]
  },
  {
   "cell_type": "code",
   "execution_count": 13,
   "metadata": {},
   "outputs": [
    {
     "data": {
      "text/html": [
       "<html><script type=\"math/tex; mode=display\">\\newcommand{\\Bold}[1]{\\mathbf{#1}}\\verb|X'|\\phantom{\\verb!x!}\\verb|=| \\left(\\begin{array}{rrrr}\n",
       "-\\mu & 0 & 0 & 0 \\\\\n",
       "0 & -\\epsilon - \\mu & 0 & 0 \\\\\n",
       "0 & \\epsilon & -\\alpha - \\gamma - \\mu & 0 \\\\\n",
       "0 & 0 & \\gamma & -\\mu\n",
       "\\end{array}\\right) \\left(\\begin{array}{r}\n",
       "S \\\\\n",
       "E \\\\\n",
       "I \\\\\n",
       "R\n",
       "\\end{array}\\right)</script></html>"
      ],
      "text/plain": [
       "\"X' =\" [                -mu                   0                   0                   0]\n",
       "[                  0       -epsilon - mu                   0                   0]\n",
       "[                  0             epsilon -alpha - gamma - mu                   0]\n",
       "[                  0                   0               gamma                 -mu] [S]\n",
       "[E]\n",
       "[I]\n",
       "[R]"
      ]
     },
     "metadata": {},
     "output_type": "display_data"
    }
   ],
   "source": [
    "#veja que podemos fazer uma linearização em volta do segundo ponto critico s = delta/mu, e,i,r =\n",
    "#0, obtendo assim um sistema analogo linear.\n",
    "show(\"X' =\",A,X)"
   ]
  },
  {
   "cell_type": "code",
   "execution_count": 14,
   "metadata": {},
   "outputs": [
    {
     "data": {
      "text/html": [
       "<html><script type=\"math/tex; mode=display\">\\newcommand{\\Bold}[1]{\\mathbf{#1}}\\left(\\begin{array}{rrrr}\n",
       "\\left( R, t \\right) \\ {\\mapsto} \\ -\\frac{I \\beta}{N} - \\mu & \\left( R, t \\right) \\ {\\mapsto} \\ 0 & \\left( R, t \\right) \\ {\\mapsto} \\ -\\frac{S \\beta}{N} & \\left( R, t \\right) \\ {\\mapsto} \\ 0 \\\\\n",
       "\\left( R, t \\right) \\ {\\mapsto} \\ \\frac{I \\beta}{N} & \\left( R, t \\right) \\ {\\mapsto} \\ -\\epsilon - \\mu & \\left( R, t \\right) \\ {\\mapsto} \\ \\frac{S \\beta}{N} & \\left( R, t \\right) \\ {\\mapsto} \\ 0 \\\\\n",
       "\\left( R, t \\right) \\ {\\mapsto} \\ 0 & \\left( R, t \\right) \\ {\\mapsto} \\ \\epsilon & \\left( R, t \\right) \\ {\\mapsto} \\ -\\alpha - \\gamma - \\mu & \\left( R, t \\right) \\ {\\mapsto} \\ 0 \\\\\n",
       "\\left( R, t \\right) \\ {\\mapsto} \\ 0 & \\left( R, t \\right) \\ {\\mapsto} \\ 0 & \\left( R, t \\right) \\ {\\mapsto} \\ \\gamma & \\left( R, t \\right) \\ {\\mapsto} \\ -\\mu\n",
       "\\end{array}\\right)</script></html>"
      ],
      "text/plain": [
       "[     (R, t) |--> -I*beta/N - mu                   (R, t) |--> 0           (R, t) |--> -S*beta/N                   (R, t) |--> 0]\n",
       "[           (R, t) |--> I*beta/N       (R, t) |--> -epsilon - mu            (R, t) |--> S*beta/N                   (R, t) |--> 0]\n",
       "[                  (R, t) |--> 0             (R, t) |--> epsilon (R, t) |--> -alpha - gamma - mu                   (R, t) |--> 0]\n",
       "[                  (R, t) |--> 0                   (R, t) |--> 0               (R, t) |--> gamma                 (R, t) |--> -mu]"
      ]
     },
     "metadata": {},
     "output_type": "display_data"
    }
   ],
   "source": [
    "j= jacobian([eq1,eq2,eq3,eq4],[S,E,I,R])\n",
    "show(j)"
   ]
  },
  {
   "cell_type": "code",
   "execution_count": 31,
   "metadata": {},
   "outputs": [
    {
     "data": {
      "text/html": [
       "<h4>Jacobiano para o primeiro ponto de equilibrio:</h4>"
      ],
      "text/plain": [
       "<h4>Jacobiano para o primeiro ponto de equilibrio:</h4>"
      ]
     },
     "metadata": {},
     "output_type": "display_data"
    },
    {
     "data": {
      "text/html": [
       "<html><script type=\"math/tex; mode=display\">\\newcommand{\\Bold}[1]{\\mathbf{#1}}\\left(\\begin{array}{rrrr}\n",
       "-0.0000840000000000000 & 0 & -0.886938037564052 & 0 \\\\\n",
       "0 & -0.764774000000000 & 0.886938037564052 & 0 \\\\\n",
       "0 & 0.764690000000000 & -0.993114000000000 & 0 \\\\\n",
       "0 & 0 & 0.983900000000000 & -0.0000840000000000000\n",
       "\\end{array}\\right)</script></html>"
      ],
      "text/plain": [
       "[-0.0000840000000000000                      0     -0.886938037564052                      0]\n",
       "[                     0     -0.764774000000000      0.886938037564052                      0]\n",
       "[                     0      0.764690000000000     -0.993114000000000                      0]\n",
       "[                     0                      0      0.983900000000000 -0.0000840000000000000]"
      ]
     },
     "metadata": {},
     "output_type": "display_data"
    },
    {
     "data": {
      "text/html": [
       "<h4>Jacobiano para o segundo ponto de equilibrio :</h4>"
      ],
      "text/plain": [
       "<h4>Jacobiano para o segundo ponto de equilibrio :</h4>"
      ]
     },
     "metadata": {},
     "output_type": "display_data"
    },
    {
     "data": {
      "text/html": [
       "<html><script type=\"math/tex; mode=display\">\\newcommand{\\Bold}[1]{\\mathbf{#1}}\\left(\\begin{array}{rrrr}\n",
       "-0.0000840000000000000 & 0 & -\\frac{\\left(1.96243594824040 \\times 10^{-7}\\right) \\, \\Delta}{\\mu} & 0 \\\\\n",
       "0 & -0.764774000000000 & \\frac{\\left(1.96243594824040 \\times 10^{-7}\\right) \\, \\Delta}{\\mu} & 0 \\\\\n",
       "0 & 0.764690000000000 & -0.993114000000000 & 0 \\\\\n",
       "0 & 0 & 0.983900000000000 & -0.0000840000000000000\n",
       "\\end{array}\\right)</script></html>"
      ],
      "text/plain": [
       "[         -0.0000840000000000000                               0 -(1.96243594824040e-7)*Delta/mu                               0]\n",
       "[                              0              -0.764774000000000  (1.96243594824040e-7)*Delta/mu                               0]\n",
       "[                              0               0.764690000000000              -0.993114000000000                               0]\n",
       "[                              0                               0               0.983900000000000          -0.0000840000000000000]"
      ]
     },
     "metadata": {},
     "output_type": "display_data"
    }
   ],
   "source": [
    "#colocando o ponto de equilibrio na matriz jacobiana\n",
    "show(html(\"<h4>Jacobiano para o primeiro ponto de equilibrio:</h4>\"))\n",
    "sol2 = eqs[0]\n",
    "j1 = j(sol2[0],sol2[1],sol2[2],sol2[3],Delta = 3710.9, mu = 0.000084, alpha = 0.00913, beta = 0.88694,gamma =0.9839, epsilon = 0.76469, N = 4519587,S = 4519577, I = 0)\n",
    "show(j1)\n",
    "j2 = j(E = 0, I = 0, R = 0, delta = 3710.9, mu = 0.000084, alpha = 0.00913, beta = 0.88694,gamma =0.9839, epsilon = 0.76469, N = 4519587,S = Delta/mu)\n",
    "show(html(\"<h4>Jacobiano para o segundo ponto de equilibrio :</h4>\"))\n",
    "show(j2)\n",
    "\n",
    "#falta ter os parametros em mãos e classificar esses pontos quanto a estabilidade(usando tr(j) e det(j))"
   ]
  },
  {
   "cell_type": "code",
   "execution_count": 56,
   "metadata": {},
   "outputs": [
    {
     "data": {
      "text/html": [
       "<h4> Classificando os pontos de equilibrio :</h4>"
      ],
      "text/plain": [
       "<h4> Classificando os pontos de equilibrio :</h4>"
      ]
     },
     "metadata": {},
     "output_type": "display_data"
    },
    {
     "data": {
      "text/html": [
       "<h4>Em j1, como trj1^2 > detj1, temos um foco estavel nesse ponto:</h4>"
      ],
      "text/plain": [
       "<h4>Em j1, como trj1^2 > detj1, temos um foco estavel nesse ponto:</h4>"
      ]
     },
     "metadata": {},
     "output_type": "display_data"
    },
    {
     "data": {
      "text/html": [
       "<html><script type=\"math/tex; mode=display\">\\newcommand{\\Bold}[1]{\\mathbf{#1}}\\verb|detj1|\\phantom{\\verb!x!}\\verb|=| 5.734772346623202 \\times 10^{-10}</script></html>"
      ],
      "text/plain": [
       "'detj1 =' 5.734772346623202e-10"
      ]
     },
     "metadata": {},
     "output_type": "display_data"
    },
    {
     "data": {
      "text/html": [
       "<html><script type=\"math/tex; mode=display\">\\newcommand{\\Bold}[1]{\\mathbf{#1}}\\verb|Tj1|\\phantom{\\verb!x!}\\verb|=| -1.75805600000000</script></html>"
      ],
      "text/plain": [
       "'Tj1 =' -1.75805600000000"
      ]
     },
     "metadata": {},
     "output_type": "display_data"
    },
    {
     "data": {
      "text/html": [
       "<h4>Em j2, como trj2^2 < detj2 e detj2 é positivo, temos um nó estável nesse ponto:</h4>"
      ],
      "text/plain": [
       "<h4>Em j2, como trj2^2 < detj2 e detj2 é positivo, temos um nó estável nesse ponto:</h4>"
      ]
     },
     "metadata": {},
     "output_type": "display_data"
    },
    {
     "data": {
      "text/html": [
       "<html><script type=\"math/tex; mode=display\">\\newcommand{\\Bold}[1]{\\mathbf{#1}}\\verb|detj2|\\phantom{\\verb!x!}\\verb|=| -\\frac{\\left(1.0588622704954204 \\times 10^{-15}\\right) \\, \\Delta}{\\mu} + 5.359086798561214 \\times 10^{-09}</script></html>"
      ],
      "text/plain": [
       "'detj2 =' -(1.0588622704954204e-15)*Delta/mu + 5.359086798561214e-09"
      ]
     },
     "metadata": {},
     "output_type": "display_data"
    },
    {
     "data": {
      "text/html": [
       "<html><script type=\"math/tex; mode=display\">\\newcommand{\\Bold}[1]{\\mathbf{#1}}\\verb|Tj2=| -1.75805600000000</script></html>"
      ],
      "text/plain": [
       "'Tj2=' -1.75805600000000"
      ]
     },
     "metadata": {},
     "output_type": "display_data"
    }
   ],
   "source": [
    "show(html(\"<h4> Classificando os pontos de equilibrio :</h4>\"))\n",
    "Tj1 = j1[0,0] + j1[2,2] + j1[1,1] + j1[3,3]\n",
    "detj1 = j1.det() \n",
    "Tj2 = j2[0,0] + j2[2,2] + j2[1,1] + j2[3,3]\n",
    "detj2 = j2.det()\n",
    "\n",
    "\n",
    "show(html(\"<h4>Em j1, como trj1^2 > detj1, temos um foco estavel nesse ponto:</h4>\"))\n",
    "show(\"detj1 =\",detj1)\n",
    "show(\"Tj1 =\",Tj1)\n",
    "# Em j1, como trj1^2 > detj1, temos um foco estavel nesse ponto \n",
    "show(html(\"<h4>Em j2, como trj2^2 < detj2 e detj2 é positivo, temos um nó estável nesse ponto:</h4>\"))\n",
    "show(\"detj2 =\",detj2)\n",
    "show(\"Tj2=\",Tj2)\n",
    "\n",
    "# Em j2, como trj2^2 < detj2 e detj2 é positivo, temos um nó estável nesse ponto"
   ]
  },
  {
   "cell_type": "code",
   "execution_count": null,
   "metadata": {},
   "outputs": [],
   "source": []
  },
  {
   "cell_type": "code",
   "execution_count": null,
   "metadata": {},
   "outputs": [],
   "source": [
    "#calculando o R0 taxa novos infectados/taxa de recuperação desses\n",
    "eq1(S,t) = delta-mu*S-beta*I*S/N\n",
    "eq2(E,t) = beta*I*S/N-(mu+eps)*E\n",
    "eq3(I,t) = eps*E-(gamma+mu+alfa)*I\n",
    "eq4(R,t) = gamma*I-mu*R\n",
    "#veja que os novos infectados(mas nao infecciosos ainda) se dão pelo primeiro termo da equação 2\n",
    "#enquanto a taxa de recuperados se da pelo primero termo da ultima equação.\n",
    "r0 = (beta*I*S/N)/(gamma*I)\n",
    "show(html(\"<h4>R0 analitico:</h4>\"))\n",
    "show(\"R0 = \",r0)\n",
    "#como no inicio da epidemia, s = n, temo\n",
    "show(\"R0 = \",beta/gamma)\n",
    "\n",
    "#falta susbtituir beta e gamma para obter uma estimativa numeric"
   ]
  },
  {
   "cell_type": "code",
   "execution_count": null,
   "metadata": {},
   "outputs": [],
   "source": []
  },
  {
   "cell_type": "code",
   "execution_count": null,
   "metadata": {},
   "outputs": [],
   "source": []
  }
 ],
 "metadata": {
  "kernelspec": {
   "display_name": "SageMath 9.1",
   "language": "sage",
   "name": "sagemath"
  },
  "language_info": {
   "codemirror_mode": {
    "name": "ipython",
    "version": 3
   },
   "file_extension": ".py",
   "mimetype": "text/x-python",
   "name": "python",
   "nbconvert_exporter": "python",
   "pygments_lexer": "ipython3",
   "version": "3.7.3"
  }
 },
 "nbformat": 4,
 "nbformat_minor": 4
}
